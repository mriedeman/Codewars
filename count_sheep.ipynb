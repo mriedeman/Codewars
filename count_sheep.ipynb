{
 "cells": [
  {
   "cell_type": "markdown",
   "id": "ef6e92c5-758a-4f05-9223-c734610c4216",
   "metadata": {},
   "source": [
    "Consider an array/list of sheep where some sheep may be missing from their place. We need a function that counts the number of sheep present in the array (true means present).\n",
    "\n",
    "For example,"
   ]
  },
  {
   "cell_type": "markdown",
   "id": "606c137f-0884-43ed-85ab-5e2fc16690c9",
   "metadata": {},
   "source": [
    "Given this array, the correct answer is 17.\n",
    "\n",
    "```python\n",
    "[True,  True,  True,  False,\n",
    "  True,  True,  True,  True ,\n",
    "  True,  False, True,  False,\n",
    "  True,  False, False, True ,\n",
    "  True,  True,  True,  True ,\n",
    "  False, False, True,  True]\n",
    "```\n"
   ]
  },
  {
   "cell_type": "markdown",
   "id": "a1fb4972-dd98-436d-9086-acc56102258e",
   "metadata": {},
   "source": [
    "# List Comprehension"
   ]
  },
  {
   "cell_type": "code",
   "execution_count": 3,
   "id": "d3ab3b1b-c854-45a3-b2e2-dd819421bb2d",
   "metadata": {},
   "outputs": [
    {
     "data": {
      "text/plain": [
       "17"
      ]
     },
     "execution_count": 3,
     "metadata": {},
     "output_type": "execute_result"
    }
   ],
   "source": [
    "def count_sheeps(sheep):\n",
    "    \n",
    "    present = sum([x for x in sheep if x == True])\n",
    "    \n",
    "    return present\n",
    "\n",
    "count_sheeps([True,  True,  True,  False,\n",
    "  True,  True,  True,  True ,\n",
    "  True,  False, True,  False,\n",
    "  True,  False, False, True ,\n",
    "  True,  True,  True,  True ,\n",
    "  False, False, True,  True])"
   ]
  },
  {
   "cell_type": "markdown",
   "id": "612f1e5a-57f9-4822-9816-6cced0b24f60",
   "metadata": {},
   "source": [
    "# Summing True/False Values (Trues are 1, Falses are 0) Doesn't Account For Nonetype or Undefined Values"
   ]
  },
  {
   "cell_type": "code",
   "execution_count": 6,
   "id": "415e5e65-ff70-4062-a60e-a37def00d042",
   "metadata": {},
   "outputs": [
    {
     "data": {
      "text/plain": [
       "17"
      ]
     },
     "execution_count": 6,
     "metadata": {},
     "output_type": "execute_result"
    }
   ],
   "source": [
    "#doesn't account for nonetype/undefined values\n",
    "def count_sheeps(sheep):\n",
    "    return sum(sheep)\n",
    "\n",
    "count_sheeps([True,  True,  True,  False,\n",
    "  True,  True,  True,  True ,\n",
    "  True,  False, True,  False,\n",
    "  True,  False, False, True ,\n",
    "  True,  True,  True,  True ,\n",
    "  False, False, True,  True])"
   ]
  },
  {
   "cell_type": "markdown",
   "id": "5dac11a9-8103-4cae-aae8-6542842bc188",
   "metadata": {},
   "source": [
    "# Count Method on Array"
   ]
  },
  {
   "cell_type": "code",
   "execution_count": 7,
   "id": "80f1e255-8c09-41ae-b9aa-ff838e2a7411",
   "metadata": {},
   "outputs": [
    {
     "data": {
      "text/plain": [
       "17"
      ]
     },
     "execution_count": 7,
     "metadata": {},
     "output_type": "execute_result"
    }
   ],
   "source": [
    "def count_sheeps(sheep):\n",
    "    return sheep.count(True)\n",
    "\n",
    "count_sheeps([True,  True,  True,  False,\n",
    "  True,  True,  True,  True ,\n",
    "  True,  False, True,  False,\n",
    "  True,  False, False, True ,\n",
    "  True,  True,  True,  True ,\n",
    "  False, False, True,  True])"
   ]
  },
  {
   "cell_type": "code",
   "execution_count": null,
   "id": "1d9828c6-58e2-43ce-a9bd-238ac8514327",
   "metadata": {},
   "outputs": [],
   "source": []
  }
 ],
 "metadata": {
  "kernelspec": {
   "display_name": "Python 3 (ipykernel)",
   "language": "python",
   "name": "python3"
  },
  "language_info": {
   "codemirror_mode": {
    "name": "ipython",
    "version": 3
   },
   "file_extension": ".py",
   "mimetype": "text/x-python",
   "name": "python",
   "nbconvert_exporter": "python",
   "pygments_lexer": "ipython3",
   "version": "3.9.7"
  }
 },
 "nbformat": 4,
 "nbformat_minor": 5
}
