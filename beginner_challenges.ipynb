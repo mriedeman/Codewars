{
 "cells": [
  {
   "cell_type": "markdown",
   "id": "c9094c99-ce9a-4da0-93cd-8aa82436a2c7",
   "metadata": {},
   "source": [
    "Write a functiont that alwasy returns a negative number."
   ]
  },
  {
   "cell_type": "code",
   "execution_count": 3,
   "id": "d92a6e52-7043-4fc6-81ab-81d04f402aba",
   "metadata": {},
   "outputs": [
    {
     "data": {
      "text/plain": [
       "-7"
      ]
     },
     "execution_count": 3,
     "metadata": {},
     "output_type": "execute_result"
    }
   ],
   "source": [
    "def make_negative(num):\n",
    "    if num < 0:\n",
    "        return num\n",
    "    else: return num* -1\n",
    "\n",
    "\n",
    "make_negative(7)"
   ]
  },
  {
   "cell_type": "markdown",
   "id": "cc8237c3-a5f9-4c81-8866-251ba113b9cb",
   "metadata": {},
   "source": [
    "It's pretty straightforward. Your goal is to create a function that removes the first and last characters of a string. You're given one parameter, the original string. You don't have to worry with strings with less than two characters."
   ]
  },
  {
   "cell_type": "code",
   "execution_count": 6,
   "id": "060435b7-1d2a-4ff3-8376-c743ea1a3354",
   "metadata": {},
   "outputs": [
    {
     "data": {
      "text/plain": [
       "'ndrew_kan'"
      ]
     },
     "execution_count": 6,
     "metadata": {},
     "output_type": "execute_result"
    }
   ],
   "source": [
    "\n",
    "def first_last(string):\n",
    "    return string[1:-1]\n",
    "\n",
    "\n",
    "first_last('andrew_kang')"
   ]
  },
  {
   "cell_type": "code",
   "execution_count": null,
   "id": "ea60cbc1-5255-4d40-8dbc-e925f2ff7d08",
   "metadata": {},
   "outputs": [],
   "source": []
  }
 ],
 "metadata": {
  "kernelspec": {
   "display_name": "Python 3 (ipykernel)",
   "language": "python",
   "name": "python3"
  },
  "language_info": {
   "codemirror_mode": {
    "name": "ipython",
    "version": 3
   },
   "file_extension": ".py",
   "mimetype": "text/x-python",
   "name": "python",
   "nbconvert_exporter": "python",
   "pygments_lexer": "ipython3",
   "version": "3.9.7"
  }
 },
 "nbformat": 4,
 "nbformat_minor": 5
}
