{
 "cells": [
  {
   "cell_type": "markdown",
   "id": "c9094c99-ce9a-4da0-93cd-8aa82436a2c7",
   "metadata": {},
   "source": [
    "Write a functiont that alwasy returns a negative number."
   ]
  },
  {
   "cell_type": "code",
   "execution_count": 3,
   "id": "d92a6e52-7043-4fc6-81ab-81d04f402aba",
   "metadata": {},
   "outputs": [
    {
     "data": {
      "text/plain": [
       "-7"
      ]
     },
     "execution_count": 3,
     "metadata": {},
     "output_type": "execute_result"
    }
   ],
   "source": [
    "def make_negative(num):\n",
    "    if num < 0:\n",
    "        return num\n",
    "    else: return num* -1\n",
    "\n",
    "\n",
    "make_negative(7)"
   ]
  },
  {
   "cell_type": "markdown",
   "id": "cc8237c3-a5f9-4c81-8866-251ba113b9cb",
   "metadata": {},
   "source": [
    "It's pretty straightforward. Your goal is to create a function that removes the first and last characters of a string. You're given one parameter, the original string. You don't have to worry with strings with less than two characters."
   ]
  },
  {
   "cell_type": "code",
   "execution_count": 6,
   "id": "060435b7-1d2a-4ff3-8376-c743ea1a3354",
   "metadata": {},
   "outputs": [
    {
     "data": {
      "text/plain": [
       "'ndrew_kan'"
      ]
     },
     "execution_count": 6,
     "metadata": {},
     "output_type": "execute_result"
    }
   ],
   "source": [
    "\n",
    "def first_last(string):\n",
    "    return string[1:-1]\n",
    "\n",
    "\n",
    "first_last('andrew_kang')"
   ]
  },
  {
   "cell_type": "code",
   "execution_count": 1,
   "id": "25a9d754-6623-4718-9fb7-eec195290d5c",
   "metadata": {},
   "outputs": [],
   "source": [
    "import numpy as np\n",
    "import pandas as pd"
   ]
  },
  {
   "cell_type": "markdown",
   "id": "a5580620-9f80-40fb-b716-3294d2561527",
   "metadata": {},
   "source": [
    "Given an array of integers your solution should find the smallest integer.\n",
    "\n",
    "For example:\n",
    "\n",
    "Given [34, 15, 88, 2] your solution will return 2\n",
    "Given [34, -345, -1, 100] your solution will return -345\n",
    "You can assume, for the purpose of this kata, that the supplied array will not be empty."
   ]
  },
  {
   "cell_type": "code",
   "execution_count": 2,
   "id": "1957b1ad",
   "metadata": {},
   "outputs": [
    {
     "data": {
      "text/plain": [
       "-345"
      ]
     },
     "execution_count": 2,
     "metadata": {},
     "output_type": "execute_result"
    }
   ],
   "source": [
    "#obvious choice\n",
    "def find_smallest_int(arr):\n",
    "    return min(arr)\n",
    "\n",
    "find_smallest_int([34, -345, -1, 100])\n"
   ]
  },
  {
   "cell_type": "code",
   "execution_count": 3,
   "id": "49dba18f",
   "metadata": {},
   "outputs": [
    {
     "data": {
      "text/plain": [
       "-345"
      ]
     },
     "execution_count": 3,
     "metadata": {},
     "output_type": "execute_result"
    }
   ],
   "source": [
    "#without relying on a a function\n",
    "\n",
    "def find_smallest_int(arr):\n",
    "    smallest = arr[0]\n",
    "\n",
    "    for i in arr:\n",
    "        if i < smallest:\n",
    "            smallest = i\n",
    "\n",
    "    return smallest\n",
    "\n",
    "find_smallest_int([34, -345, -1, 100])"
   ]
  },
  {
   "cell_type": "code",
   "execution_count": null,
   "id": "870f9967",
   "metadata": {},
   "outputs": [],
   "source": []
  }
 ],
 "metadata": {
  "kernelspec": {
   "display_name": "Python 3 (ipykernel)",
   "language": "python",
   "name": "python3"
  },
  "language_info": {
   "codemirror_mode": {
    "name": "ipython",
    "version": 3
   },
   "file_extension": ".py",
   "mimetype": "text/x-python",
   "name": "python",
   "nbconvert_exporter": "python",
   "pygments_lexer": "ipython3",
   "version": "3.9.7"
  }
 },
 "nbformat": 4,
 "nbformat_minor": 5
}
