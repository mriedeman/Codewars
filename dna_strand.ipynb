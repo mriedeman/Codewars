{
 "cells": [
  {
   "cell_type": "markdown",
   "id": "2daebdc7-2b8d-45fd-bb2f-a42275491d12",
   "metadata": {},
   "source": [
    "Deoxyribonucleic acid (DNA) is a chemical found in the nucleus of cells and carries the \"instructions\" for the development and functioning of living organisms.\n",
    "\n",
    "If you want to know more: http://en.wikipedia.org/wiki/DNA\n",
    "\n",
    "In DNA strings, symbols \"A\" and \"T\" are complements of each other, as \"C\" and \"G\". You function receives one side of the DNA (string, except for Haskell); you need to return the other complementary side. DNA strand is never empty or there is no DNA at all (again, except for Haskell)."
   ]
  },
  {
   "cell_type": "markdown",
   "id": "22c83573-84c3-4ac5-af61-f1f8b329f4c2",
   "metadata": {},
   "source": [
    "# Dictionary Method"
   ]
  },
  {
   "cell_type": "code",
   "execution_count": 6,
   "id": "4a6b0f04-39b6-4344-bf41-e8deb1478bb9",
   "metadata": {},
   "outputs": [
    {
     "data": {
      "text/plain": [
       "'TAACG'"
      ]
     },
     "execution_count": 6,
     "metadata": {},
     "output_type": "execute_result"
    }
   ],
   "source": [
    "def DNA_strand(dna):\n",
    "    dna_dict = {'A': 'T',\n",
    "               'C': 'G',\n",
    "               'T': 'A',\n",
    "               'G': 'C'}\n",
    "    \n",
    "    return \"\".join([dna_dict[letter] for letter in dna])\n",
    "\n",
    "\n",
    "    \n",
    "DNA_strand('ATTGC') \n"
   ]
  },
  {
   "cell_type": "code",
   "execution_count": 2,
   "id": "f6ed6289-f57a-4604-bb85-5809412e6ba6",
   "metadata": {},
   "outputs": [
    {
     "data": {
      "text/plain": [
       "{65: 84, 84: 65, 67: 71, 71: 67}"
      ]
     },
     "execution_count": 2,
     "metadata": {},
     "output_type": "execute_result"
    }
   ],
   "source": [
    "str.maketrans(\"ATCG\",\"TAGC\")"
   ]
  },
  {
   "cell_type": "markdown",
   "id": "abfc1339-e02b-4b3f-ba8e-3b0fb7dae774",
   "metadata": {},
   "source": [
    "# Using the translate() and maketrans() string methods\n",
    "\n",
    "The translate() method returns a string where some specified characters are replaced with the character described in a dictionary, or in a mapping table.\n",
    "\n",
    "Use the maketrans() method to create a mapping table."
   ]
  },
  {
   "cell_type": "code",
   "execution_count": 5,
   "id": "5ac35d8d-fe91-4c93-abcc-98fc13564a8b",
   "metadata": {},
   "outputs": [
    {
     "data": {
      "text/plain": [
       "'TAACG'"
      ]
     },
     "execution_count": 5,
     "metadata": {},
     "output_type": "execute_result"
    }
   ],
   "source": [
    "def DNA_strand(dna):\n",
    "    x = \"ATCG\"\n",
    "    y = \"TAGC\"\n",
    "    mapping_table = str.maketrans(x,y)\n",
    "    return dna.translate(mapping_table)\n",
    "\n",
    "\n",
    "DNA_strand('ATTGC') \n"
   ]
  },
  {
   "cell_type": "markdown",
   "id": "74dc6902-e725-46ac-81e0-37feae1aef22",
   "metadata": {},
   "source": [
    "# In One Line"
   ]
  },
  {
   "cell_type": "code",
   "execution_count": 1,
   "id": "e1fe3317-68b5-48eb-93ea-7676cacb68fb",
   "metadata": {},
   "outputs": [
    {
     "data": {
      "text/plain": [
       "'TAACG'"
      ]
     },
     "execution_count": 1,
     "metadata": {},
     "output_type": "execute_result"
    }
   ],
   "source": [
    "def DNA_strand(dna):\n",
    "    \n",
    "    return dna.translate(str.maketrans(\"ATCG\",\"TAGC\"))\n",
    "    \n",
    "    \n",
    "DNA_strand('ATTGC') "
   ]
  }
 ],
 "metadata": {
  "kernelspec": {
   "display_name": "Python 3 (ipykernel)",
   "language": "python",
   "name": "python3"
  },
  "language_info": {
   "codemirror_mode": {
    "name": "ipython",
    "version": 3
   },
   "file_extension": ".py",
   "mimetype": "text/x-python",
   "name": "python",
   "nbconvert_exporter": "python",
   "pygments_lexer": "ipython3",
   "version": "3.9.7"
  }
 },
 "nbformat": 4,
 "nbformat_minor": 5
}
