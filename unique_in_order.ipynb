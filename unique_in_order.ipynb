{
 "cells": [
  {
   "cell_type": "markdown",
   "id": "93bd50bb-505d-4b05-b732-33bab1ab4a1a",
   "metadata": {},
   "source": [
    "Implement the function unique_in_order which takes as argument a sequence and returns a list of items without any elements with the same value next to each other and preserving the original order of elements.\n",
    "\n",
    "For example:\n",
    "\n"
   ]
  },
  {
   "cell_type": "markdown",
   "id": "eed52fbe-afb7-4bd6-9207-0bb4f941f5c4",
   "metadata": {},
   "source": [
    "```python\n",
    "unique_in_order('AAAABBBCCDAABBB') == ['A', 'B', 'C', 'D', 'A', 'B']\n",
    "unique_in_order('ABBCcAD')         == ['A', 'B', 'C', 'c', 'A', 'D']\n",
    "unique_in_order([1,2,2,3,3])       == [1,2,3]\n",
    "```\n"
   ]
  },
  {
   "cell_type": "markdown",
   "id": "56a9e5c7-c714-4a8f-b41a-58b343a4762c",
   "metadata": {},
   "source": [
    "# Naive Method (For Loop, Test, and Append to List)"
   ]
  },
  {
   "cell_type": "code",
   "execution_count": 8,
   "id": "882e87ac-c791-44e9-962b-07395307cd3c",
   "metadata": {},
   "outputs": [
    {
     "data": {
      "text/plain": [
       "['A', 'B', 'C', 'D', 'A', 'B']"
      ]
     },
     "execution_count": 8,
     "metadata": {},
     "output_type": "execute_result"
    }
   ],
   "source": [
    "def unique_in_order(sequence):\n",
    "    \n",
    "    unique_list = []\n",
    "    test = None\n",
    "    for char in sequence:\n",
    "        if char != test:\n",
    "            unique_list.append(char)\n",
    "            test = char\n",
    "            \n",
    "    return unique_list\n",
    "    \n",
    "    \n",
    "\n",
    "unique_in_order('AAAABBBCCDAABBB')"
   ]
  },
  {
   "cell_type": "markdown",
   "id": "89292b8b-2441-40de-a57b-953716c731ce",
   "metadata": {},
   "source": [
    "# Using Groupy Method in Itertools Library"
   ]
  },
  {
   "cell_type": "code",
   "execution_count": 9,
   "id": "a7e3e369-beea-4b2b-8489-6af07a4f99d3",
   "metadata": {},
   "outputs": [
    {
     "data": {
      "text/plain": [
       "['A', 'B', 'C', 'D', 'A', 'B']"
      ]
     },
     "execution_count": 9,
     "metadata": {},
     "output_type": "execute_result"
    }
   ],
   "source": [
    "from itertools import groupby\n",
    "\n",
    "def unique_in_order(iterable):\n",
    "    return [k for (k, _) in groupby(iterable)]\n",
    "\n",
    "unique_in_order('AAAABBBCCDAABBB')"
   ]
  },
  {
   "cell_type": "code",
   "execution_count": 22,
   "id": "52a549b9-7f15-4303-975d-e8c39e0327aa",
   "metadata": {},
   "outputs": [
    {
     "data": {
      "text/plain": [
       "[('A', <itertools._grouper at 0x222d448fbe0>),\n",
       " ('B', <itertools._grouper at 0x222d448fdc0>),\n",
       " ('C', <itertools._grouper at 0x222d448f370>),\n",
       " ('D', <itertools._grouper at 0x222d448f670>),\n",
       " ('A', <itertools._grouper at 0x222d448f9a0>),\n",
       " ('B', <itertools._grouper at 0x222d448fd60>)]"
      ]
     },
     "execution_count": 22,
     "metadata": {},
     "output_type": "execute_result"
    }
   ],
   "source": [
    "[i for i in groupby('AAAABBBCCDAABBB')]"
   ]
  },
  {
   "cell_type": "code",
   "execution_count": 25,
   "id": "48a8d922-dece-46c8-b1fa-cf6044c6e567",
   "metadata": {},
   "outputs": [
    {
     "data": {
      "text/plain": [
       "['A', 'B', 'C', 'D', 'A', 'B']"
      ]
     },
     "execution_count": 25,
     "metadata": {},
     "output_type": "execute_result"
    }
   ],
   "source": [
    "[i for i, _ in groupby('AAAABBBCCDAABBB')]"
   ]
  },
  {
   "cell_type": "markdown",
   "id": "a89d51b2-faf6-4610-8471-4433ad9a4bc5",
   "metadata": {},
   "source": [
    "# Lambda Function with List Comprehension"
   ]
  },
  {
   "cell_type": "code",
   "execution_count": 19,
   "id": "745a4c2d-0dad-403f-8b41-faecad11db45",
   "metadata": {},
   "outputs": [
    {
     "data": {
      "text/plain": [
       "['A', 'B', 'C', 'D', 'A', 'B']"
      ]
     },
     "execution_count": 19,
     "metadata": {},
     "output_type": "execute_result"
    }
   ],
   "source": [
    "unique_in_order = lambda char_list: [char for idx, char in enumerate(char_list) if idx == 0 or char_list[idx-1] != char]\n",
    "\n",
    "unique_in_order('AAAABBBCCDAABBB')"
   ]
  },
  {
   "cell_type": "markdown",
   "id": "a0711094-061e-4620-88a0-7113bd36cf3c",
   "metadata": {},
   "source": [
    "# Traditional Function Syntax"
   ]
  },
  {
   "cell_type": "code",
   "execution_count": 20,
   "id": "0c5f7e9a-33cc-403b-8866-7b727282ec45",
   "metadata": {},
   "outputs": [
    {
     "data": {
      "text/plain": [
       "['A', 'B', 'C', 'D', 'A', 'B']"
      ]
     },
     "execution_count": 20,
     "metadata": {},
     "output_type": "execute_result"
    }
   ],
   "source": [
    "def unique_in_order(char_list):\n",
    "    \n",
    "    return [char for idx, char in enumerate(char_list) if idx == 0 or char_list[idx-1] != char]\n",
    "\n",
    "unique_in_order(('AAAABBBCCDAABBB'))"
   ]
  },
  {
   "cell_type": "code",
   "execution_count": null,
   "id": "948aafea-badc-4d6e-8297-fa16fe8882ce",
   "metadata": {},
   "outputs": [],
   "source": []
  }
 ],
 "metadata": {
  "kernelspec": {
   "display_name": "Python 3 (ipykernel)",
   "language": "python",
   "name": "python3"
  },
  "language_info": {
   "codemirror_mode": {
    "name": "ipython",
    "version": 3
   },
   "file_extension": ".py",
   "mimetype": "text/x-python",
   "name": "python",
   "nbconvert_exporter": "python",
   "pygments_lexer": "ipython3",
   "version": "3.9.7"
  }
 },
 "nbformat": 4,
 "nbformat_minor": 5
}
