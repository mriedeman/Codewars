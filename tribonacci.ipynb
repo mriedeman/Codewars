{
 "cells": [
  {
   "cell_type": "markdown",
   "id": "fa2e3bdd-2c6e-4e67-af22-f24285f8b12b",
   "metadata": {},
   "source": [
    "Well met with Fibonacci bigger brother, AKA Tribonacci.\n",
    "\n",
    "As the name may already reveal, it works basically like a Fibonacci, but summing the last 3 (instead of 2) numbers of the sequence to generate the next. And, worse part of it, regrettably I won't get to hear non-native Italian speakers trying to pronounce it :(\n",
    "\n",
    "So, if we are to start our Tribonacci sequence with [1, 1, 1] as a starting input (AKA signature), we have this sequence:\n",
    "\n",
    "[1, 1 ,1, 3, 5, 9, 17, 31, ...]\n",
    "But what if we started with [0, 0, 1] as a signature? As starting with [0, 1] instead of [1, 1] basically shifts the common Fibonacci sequence by once place, you may be tempted to think that we would get the same sequence shifted by 2 places, but that is not the case and we would get:\n",
    "\n",
    "[0, 0, 1, 1, 2, 4, 7, 13, 24, ...]\n",
    "Well, you may have guessed it by now, but to be clear: you need to create a fibonacci function that given a signature array/list, returns the first n elements - signature included of the so seeded sequence.\n",
    "\n",
    "Signature will always contain 3 numbers; n will always be a non-negative number; if n == 0, then return an empty array (except in C return NULL) and be ready for anything else which is not clearly specified ;)"
   ]
  },
  {
   "cell_type": "markdown",
   "id": "9e7bc2b1-0406-492d-93d5-5f739527cf1a",
   "metadata": {},
   "source": [
    "**Solution Outline:**\n",
    "\n",
    "1. Use if statements to catch n <= 3 scenarios\n",
    "2. assign x,y,z as indice counters and add 1 for each pass through the while loop\n",
    "3. assign i, j, k to the signature numbers and append their sum to the output array"
   ]
  },
  {
   "cell_type": "markdown",
   "id": "18a80392-ef74-476e-8df7-65647f5d7afa",
   "metadata": {},
   "source": [
    "# My Solution"
   ]
  },
  {
   "cell_type": "code",
   "execution_count": 16,
   "id": "7858c314-4423-4f6e-85c9-b20dffd4b886",
   "metadata": {},
   "outputs": [
    {
     "data": {
      "text/plain": [
       "[3, 2, 7, 12, 21, 40, 73, 134, 247, 454]"
      ]
     },
     "execution_count": 16,
     "metadata": {},
     "output_type": "execute_result"
    }
   ],
   "source": [
    "# long version\n",
    "def tribonacci(signature, n):\n",
    "    \n",
    "    if n == 0:\n",
    "        return []\n",
    "    \n",
    "    elif n == 1:\n",
    "        return [signature[0]]\n",
    "    \n",
    "    elif n == 2:\n",
    "        return [signature[0], signature[1]]\n",
    "    \n",
    "    elif n == 2:\n",
    "        return [signature[0], signature[1], signature[2]]\n",
    "    \n",
    "    \n",
    "    \n",
    "    else:\n",
    "        tribs = signature\n",
    "        counter = 0\n",
    "        x = 0\n",
    "        y = 1\n",
    "        z = 2\n",
    "        while counter < n - 3:\n",
    "            \n",
    "            i = tribs[x]\n",
    "            j = tribs[y]\n",
    "            k = tribs[z]\n",
    "\n",
    "            next_num = i + j + k\n",
    "\n",
    "            tribs.append(next_num)\n",
    "\n",
    "            counter += 1\n",
    "            x += 1\n",
    "            y += 1\n",
    "            z += 1\n",
    "            \n",
    "\n",
    "\n",
    "        return tribs\n",
    "    \n",
    "    \n",
    "(tribonacci([3, 2, 7], 10))"
   ]
  },
  {
   "cell_type": "markdown",
   "id": "34271458-29da-48d3-83f8-4635edb215d5",
   "metadata": {},
   "source": [
    "# More Concise, Use slicing to extract last three elements intead of indexing"
   ]
  },
  {
   "cell_type": "code",
   "execution_count": 26,
   "id": "fec111a8-d50e-46ec-99f6-cd213aaaf5c0",
   "metadata": {},
   "outputs": [],
   "source": [
    "def tribonacci(signature, n):\n",
    "    \n",
    "    #make a copy of the signature as a slice\n",
    "    res = signature[:n]\n",
    "    for i in range(n-3):\n",
    "        \n",
    "        #appends the sum of the last three elements in the res list back to res\n",
    "        res.append(sum(res[-3:]))\n",
    "    return res\n",
    "        \n",
    "        \n",
    "#how does this formula handle  cases where n <= 3?\n",
    "#answer, the range function doesn't execute for numbers <=0 if stop parameter is omitted\n",
    "#therefore, when n is <=3 the slice of signature[:n] is simply returned unchanged."
   ]
  },
  {
   "cell_type": "code",
   "execution_count": null,
   "id": "01fcbcf7-5628-462d-bd23-5fab2c76bb92",
   "metadata": {},
   "outputs": [],
   "source": []
  }
 ],
 "metadata": {
  "kernelspec": {
   "display_name": "Python 3 (ipykernel)",
   "language": "python",
   "name": "python3"
  },
  "language_info": {
   "codemirror_mode": {
    "name": "ipython",
    "version": 3
   },
   "file_extension": ".py",
   "mimetype": "text/x-python",
   "name": "python",
   "nbconvert_exporter": "python",
   "pygments_lexer": "ipython3",
   "version": "3.9.7"
  }
 },
 "nbformat": 4,
 "nbformat_minor": 5
}
