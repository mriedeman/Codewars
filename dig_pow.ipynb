{
 "cells": [
  {
   "cell_type": "markdown",
   "id": "f6c54b29-f97d-49f0-aa50-e1738592204f",
   "metadata": {},
   "source": [
    "# Playing with digits\n",
    "Some numbers have funny properties. For example:\n",
    "\n",
    "```python\n",
    "89 --> 8¹ + 9² = 89 * 1\n",
    "\n",
    "695 --> 6² + 9³ + 5⁴= 1390 = 695 * 2\n",
    "\n",
    "46288 --> 4³ + 6⁴+ 2⁵ + 8⁶ + 8⁷ = 2360688 = 46288 * 51\n",
    "\n",
    "```\n",
    "\n",
    "Given a positive integer n written as abcd... (a, b, c, d... being digits) and a positive integer p\n",
    "\n",
    "we want to find a positive integer k, if it exists, such that the sum of the digits of n taken to the successive powers of p is equal to k * n.\n",
    "In other words:\n",
    "\n",
    "Is there an integer k such as : (a ^ p + b ^ (p+1) + c ^(p+2) + d ^ (p+3) + ...) = n * k\n",
    "\n",
    "If it is the case we will return k, if not return -1.\n",
    "\n",
    "Note: n and p will always be given as strictly positive integers."
   ]
  },
  {
   "cell_type": "markdown",
   "id": "cd24c23e-45d5-4aef-adeb-2e70f5cd46a4",
   "metadata": {},
   "source": [
    "**Solution Outline**\n",
    "\n",
    "1. split the number into interable ints\n",
    "3. input the exponent param p and list of integers into the test equation and add it to a running total\n",
    "3. Increment the increase in exponent by adding the index of the digit array using enumerate.\n",
    "4. return k if (a ^ p + b ^ (p+1) + c ^(p+2) + d ^ (p+3) + ...) / n == k\n",
    "5. else return -1"
   ]
  },
  {
   "cell_type": "markdown",
   "id": "34efc196-e464-42db-825f-9199ce49e8ac",
   "metadata": {},
   "source": [
    "# My Solution"
   ]
  },
  {
   "cell_type": "code",
   "execution_count": 24,
   "id": "c12e1b52-472b-4e05-bdcd-ca7c66b05324",
   "metadata": {},
   "outputs": [
    {
     "data": {
      "text/plain": [
       "51.0"
      ]
     },
     "execution_count": 24,
     "metadata": {},
     "output_type": "execute_result"
    }
   ],
   "source": [
    "def dig_pow(n,p):\n",
    "    \n",
    "    #split into digits\n",
    "    digits = [int(digit) for digit in str(n)]\n",
    "    \n",
    "    sigma = 0\n",
    "    \n",
    "    for increment, value in enumerate(digits):\n",
    "        \n",
    "        sigma += value**(p+increment)\n",
    "    \n",
    "    k = sigma/n\n",
    "    \n",
    "    if sigma % n == 0:\n",
    "        return k\n",
    "    \n",
    "    else:\n",
    "        return -1\n",
    "        \n",
    "\n",
    "\n",
    "\n",
    "dig_pow(46288, 3)"
   ]
  },
  {
   "cell_type": "markdown",
   "id": "681d3c91-bb12-48b6-b09b-3fbe17f32176",
   "metadata": {},
   "source": [
    "# Using the power Function"
   ]
  },
  {
   "cell_type": "code",
   "execution_count": null,
   "id": "04f83b49-02ec-40fb-91cb-ef556794a0ee",
   "metadata": {},
   "outputs": [],
   "source": [
    "def dig_pow(n, p):\n",
    "    s = 0\n",
    "    for i,c in enumerate(str(n)):\n",
    "        s += pow(int(c),p+i)\n",
    "    return s/n if s%n==0 else -1"
   ]
  }
 ],
 "metadata": {
  "kernelspec": {
   "display_name": "Python 3 (ipykernel)",
   "language": "python",
   "name": "python3"
  },
  "language_info": {
   "codemirror_mode": {
    "name": "ipython",
    "version": 3
   },
   "file_extension": ".py",
   "mimetype": "text/x-python",
   "name": "python",
   "nbconvert_exporter": "python",
   "pygments_lexer": "ipython3",
   "version": "3.9.7"
  }
 },
 "nbformat": 4,
 "nbformat_minor": 5
}
