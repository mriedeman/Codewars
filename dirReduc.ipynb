{
 "cells": [
  {
   "cell_type": "markdown",
   "id": "24ad9240-adec-42a4-aee3-64ac7b369e3b",
   "metadata": {},
   "source": [
    "In [\"NORTH\", \"SOUTH\", \"EAST\", \"WEST\"], the direction \"NORTH\" + \"SOUTH\" is going north and coming back right away.\n",
    "\n",
    "The path becomes [\"EAST\", \"WEST\"], now \"EAST\" and \"WEST\" annihilate each other, therefore, the final result is [] (nil in Clojure).\n",
    "\n",
    "In [\"NORTH\", \"EAST\", \"WEST\", \"SOUTH\", \"WEST\", \"WEST\"], \"NORTH\" and \"SOUTH\" are not directly opposite but they become directly opposite after the reduction of \"EAST\" and \"WEST\" so the whole path is reducible to [\"WEST\", \"WEST\"].\n",
    "\n",
    "Task\n",
    "Write a function dirReduc which will take an array of strings and returns an array of strings with the needless directions removed (W<->E or S<->N side by side)."
   ]
  },
  {
   "cell_type": "markdown",
   "id": "bf61c4f0-5e45-402c-949b-f30625c749d3",
   "metadata": {},
   "source": [
    "# My attempt: function didn't reduce correctly as it only accounted for the net positive sum of north/south and east/west"
   ]
  },
  {
   "cell_type": "code",
   "execution_count": 32,
   "id": "68e75607-abbb-46d4-9e33-a553890f0306",
   "metadata": {},
   "outputs": [
    {
     "data": {
      "text/plain": [
       "['WEST', 'WEST']"
      ]
     },
     "execution_count": 32,
     "metadata": {},
     "output_type": "execute_result"
    }
   ],
   "source": [
    "def dirReduc(directions):\n",
    "    \n",
    "    import itertools\n",
    "    \n",
    "    #count the occurrences of each cardianl direction in the list\n",
    "    north = directions.count('NORTH')\n",
    "    south = directions.count('SOUTH')\n",
    "    east = directions.count('EAST')\n",
    "    west = directions.count('WEST')\n",
    "    \n",
    "    give_directions = []\n",
    "  \n",
    "    \n",
    "    if north - south > 0:\n",
    "        give_directions.append(list(itertools.repeat('NORTH', north - south)))\n",
    "    \n",
    "    elif north - south < 0:\n",
    "        give_directions.append(list(itertools.repeat('SOUTH', abs(north - south))))\n",
    "    \n",
    "    elif east - west > 0:\n",
    "        give_directions.append(list(itertools.repeat('EAST', east-west)))    \n",
    "    elif east - west < 0:\n",
    "        give_directions.append(list(itertools.repeat('WEST', abs(east-west))))\n",
    "        \n",
    "    return list(itertools.chain(*give_directions))\n",
    "\n",
    "dirReduc([\"NORTH\", \"EAST\", \"WEST\", \"SOUTH\", \"WEST\", \"WEST\"])"
   ]
  },
  {
   "cell_type": "code",
   "execution_count": 34,
   "id": "259fdf5c-403e-4261-85c7-ebec770d4d30",
   "metadata": {},
   "outputs": [
    {
     "name": "stdout",
     "output_type": "stream",
     "text": [
      "['NORTH']\n",
      "['NORTH', 'EAST']\n",
      "['NORTH']\n",
      "[]\n",
      "['WEST']\n",
      "['WEST', 'WEST']\n"
     ]
    },
    {
     "data": {
      "text/plain": [
       "['WEST', 'WEST']"
      ]
     },
     "execution_count": 34,
     "metadata": {},
     "output_type": "execute_result"
    }
   ],
   "source": [
    "opposite = {'NORTH': 'SOUTH', 'EAST': 'WEST', 'SOUTH': 'NORTH', 'WEST': 'EAST'}\n",
    "\n",
    "def dirReduc(plan):\n",
    "    new_plan = []\n",
    "    for d in plan:\n",
    "        if new_plan and new_plan[-1] == opposite[d]:   # [EAST] == 'EAST'\n",
    "            new_plan.pop()\n",
    "        else:\n",
    "            new_plan.append(d)\n",
    "            \n",
    "        print(new_plan)\n",
    "    return new_plan\n",
    "\n",
    "\n",
    "dirReduc([\"NORTH\", \"EAST\", \"WEST\", \"SOUTH\", \"WEST\", \"WEST\"])"
   ]
  },
  {
   "cell_type": "markdown",
   "id": "58a55189-7846-4431-a95f-7fd349b6345d",
   "metadata": {},
   "source": [
    "# Join the directions array on a space and replace any consecutive opposite directions with an empty string."
   ]
  },
  {
   "cell_type": "code",
   "execution_count": 36,
   "id": "60ccd2a1-6987-48da-bff2-aa1564c00150",
   "metadata": {},
   "outputs": [
    {
     "data": {
      "text/plain": [
       "['NORTH', 'SOUTH', 'WEST', 'WEST']"
      ]
     },
     "execution_count": 36,
     "metadata": {},
     "output_type": "execute_result"
    }
   ],
   "source": [
    "def dirReduc(arr):\n",
    "    dir = \" \".join(arr)\n",
    "    dir2 = dir.replace(\"NORTH SOUTH\",'').replace(\"SOUTH NORTH\",'').replace(\"EAST WEST\",'').replace(\"WEST EAST\",'')\n",
    "    dir3 = dir2.split()\n",
    "    return dir3\n",
    "\n",
    "\n",
    "dirReduc([\"NORTH\", \"EAST\", \"WEST\", \"SOUTH\", \"WEST\", \"WEST\"])"
   ]
  },
  {
   "cell_type": "code",
   "execution_count": null,
   "id": "04202dba-82ac-4e48-a82b-9d983cf73c88",
   "metadata": {},
   "outputs": [],
   "source": []
  }
 ],
 "metadata": {
  "kernelspec": {
   "display_name": "Python 3 (ipykernel)",
   "language": "python",
   "name": "python3"
  },
  "language_info": {
   "codemirror_mode": {
    "name": "ipython",
    "version": 3
   },
   "file_extension": ".py",
   "mimetype": "text/x-python",
   "name": "python",
   "nbconvert_exporter": "python",
   "pygments_lexer": "ipython3",
   "version": "3.9.7"
  }
 },
 "nbformat": 4,
 "nbformat_minor": 5
}
