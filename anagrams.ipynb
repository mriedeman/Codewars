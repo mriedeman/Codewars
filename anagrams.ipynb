{
 "cells": [
  {
   "cell_type": "markdown",
   "metadata": {},
   "source": [
    "Where my anagrams at?\n",
    "\n",
    "Given a word and a list of potential anagrams. Write a function that returns only the words that are anagrams."
   ]
  },
  {
   "cell_type": "markdown",
   "metadata": {},
   "source": [
    "# My Solution"
   ]
  },
  {
   "cell_type": "code",
   "execution_count": 22,
   "metadata": {},
   "outputs": [
    {
     "data": {
      "text/plain": [
       "['carer', 'racer']"
      ]
     },
     "execution_count": 22,
     "metadata": {},
     "output_type": "execute_result"
    }
   ],
   "source": [
    "def anagrams(word, words):\n",
    "\n",
    "    letter_dict = {}\n",
    "\n",
    "    for letter in word:\n",
    "\n",
    "        if letter not in letter_dict:\n",
    "            letter_dict[letter] = 1\n",
    "        else :\n",
    "            letter_dict[letter] += 1\n",
    "    \n",
    "    anagram_list = []\n",
    "    keys = letter_dict.keys()\n",
    "    \n",
    "    for w in words:\n",
    "        test = True\n",
    "        for char in w:\n",
    "            char_count = w.count(char)\n",
    "\n",
    "            if (char not in keys) or (char_count != letter_dict[char]):\n",
    "                test = False\n",
    "            \n",
    "        if test == True:\n",
    "            anagram_list.append(w)\n",
    "\n",
    "    return anagram_list\n",
    "\n",
    "\n",
    "\n",
    "\n",
    "\n",
    "\n",
    "\n",
    "anagrams('racer', ['crazer', 'carer', 'racar', 'caers', 'racer'])\n"
   ]
  },
  {
   "cell_type": "markdown",
   "metadata": {},
   "source": [
    "# Dictionary Comprehension"
   ]
  },
  {
   "cell_type": "code",
   "execution_count": 23,
   "metadata": {},
   "outputs": [
    {
     "data": {
      "text/plain": [
       "['carer', 'racer']"
      ]
     },
     "execution_count": 23,
     "metadata": {},
     "output_type": "execute_result"
    }
   ],
   "source": [
    "def anagrams(word, words):\n",
    "     letter = {x : word.count(x) for x in word}\n",
    "     result = []\n",
    "\n",
    "     for i in words:\n",
    "          letters = {x : i.count(x) for x in i}\n",
    "          if letters == letter:\n",
    "               result.append(i)\n",
    "     \n",
    "     return result\n",
    "\n",
    "anagrams('racer', ['crazer', 'carer', 'racar', 'caers', 'racer'])\n",
    "\n"
   ]
  },
  {
   "cell_type": "markdown",
   "metadata": {},
   "source": [
    "# Sorted Function with List Comprehension"
   ]
  },
  {
   "cell_type": "code",
   "execution_count": 27,
   "metadata": {},
   "outputs": [
    {
     "data": {
      "text/plain": [
       "['carer', 'racer']"
      ]
     },
     "execution_count": 27,
     "metadata": {},
     "output_type": "execute_result"
    }
   ],
   "source": [
    "def anagrams(word, words):\n",
    "    return [x for x in words if sorted(word) == sorted(x)]\n",
    "\n",
    "anagrams('racer', ['crazer', 'carer', 'racar', 'caers', 'racer'])"
   ]
  },
  {
   "cell_type": "code",
   "execution_count": null,
   "metadata": {},
   "outputs": [],
   "source": []
  }
 ],
 "metadata": {
  "interpreter": {
   "hash": "71d23c1f8c85dab5ca10a7df9e743814890b2991d9ac27ab3e759bde93dc982d"
  },
  "kernelspec": {
   "display_name": "Python 3.9.7 64-bit",
   "language": "python",
   "name": "python3"
  },
  "language_info": {
   "codemirror_mode": {
    "name": "ipython",
    "version": 3
   },
   "file_extension": ".py",
   "mimetype": "text/x-python",
   "name": "python",
   "nbconvert_exporter": "python",
   "pygments_lexer": "ipython3",
   "version": "3.9.7"
  },
  "orig_nbformat": 4
 },
 "nbformat": 4,
 "nbformat_minor": 2
}
