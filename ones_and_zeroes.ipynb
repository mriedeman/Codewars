{
 "cells": [
  {
   "cell_type": "markdown",
   "metadata": {},
   "source": [
    "Given an array of ones and zeroes, convert the equivalent binary value to an integer.\n",
    "\n",
    "\n",
    "Eg: [0, 0, 0, 1] is treated as 0001 which is the binary representation of 1.\n",
    "\n",
    "Examples:\n",
    "```python\n",
    "Testing: [0, 0, 0, 1] ==> 1\n",
    "Testing: [0, 0, 1, 0] ==> 2\n",
    "Testing: [0, 1, 0, 1] ==> 5\n",
    "Testing: [1, 0, 0, 1] ==> 9\n",
    "Testing: [0, 0, 1, 0] ==> 2\n",
    "Testing: [0, 1, 1, 0] ==> 6\n",
    "Testing: [1, 1, 1, 1] ==> 15\n",
    "Testing: [1, 0, 1, 1] ==> 11\n",
    "However, the arrays can have varying lengths, not just limited to 4.\n",
    "```"
   ]
  },
  {
   "cell_type": "markdown",
   "metadata": {},
   "source": [
    "**Solution Outline:**\n",
    "1. Flip the array\n",
    "2. Formula is sum((2^i)*j) where i is the index and j is the binary value (1 or 0)"
   ]
  },
  {
   "cell_type": "markdown",
   "metadata": {},
   "source": [
    "# My Solution"
   ]
  },
  {
   "cell_type": "code",
   "execution_count": 6,
   "metadata": {},
   "outputs": [
    {
     "name": "stdout",
     "output_type": "stream",
     "text": [
      "[0, 1, 0, 1, 1, 1, 1]\n"
     ]
    },
    {
     "data": {
      "text/plain": [
       "122"
      ]
     },
     "execution_count": 6,
     "metadata": {},
     "output_type": "execute_result"
    }
   ],
   "source": [
    "def binary_array_to_number(arr):\n",
    "    binary_total = 0\n",
    "    flip_arr = arr[::-1]\n",
    "    \n",
    "\n",
    "    for i, j in enumerate(flip_arr):\n",
    "\n",
    "        binary_total += (2**i)*j\n",
    "\n",
    "\n",
    "    return binary_total\n",
    "\n",
    "binary_array_to_number([1,1,1,1,0,1,0])\n",
    "\n"
   ]
  },
  {
   "cell_type": "markdown",
   "metadata": {},
   "source": [
    "# Using the Map, Join and Int"
   ]
  },
  {
   "cell_type": "code",
   "execution_count": 15,
   "metadata": {},
   "outputs": [
    {
     "data": {
      "text/plain": [
       "122"
      ]
     },
     "execution_count": 15,
     "metadata": {},
     "output_type": "execute_result"
    }
   ],
   "source": [
    "def binary_array_to_number(arr):\n",
    "\n",
    "    return int(\"\".join((map(str, arr))),2)\n",
    "\n",
    "\n",
    "binary_array_to_number([1,1,1,1,0,1,0])"
   ]
  }
 ],
 "metadata": {
  "interpreter": {
   "hash": "71d23c1f8c85dab5ca10a7df9e743814890b2991d9ac27ab3e759bde93dc982d"
  },
  "kernelspec": {
   "display_name": "Python 3.9.7 64-bit",
   "language": "python",
   "name": "python3"
  },
  "language_info": {
   "codemirror_mode": {
    "name": "ipython",
    "version": 3
   },
   "file_extension": ".py",
   "mimetype": "text/x-python",
   "name": "python",
   "nbconvert_exporter": "python",
   "pygments_lexer": "ipython3",
   "version": "3.9.7"
  },
  "orig_nbformat": 4
 },
 "nbformat": 4,
 "nbformat_minor": 2
}
