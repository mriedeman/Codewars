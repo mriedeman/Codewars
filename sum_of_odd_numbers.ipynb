{
 "cells": [
  {
   "cell_type": "markdown",
   "metadata": {},
   "source": [
    "Given the triangle of consecutive odd numbers:\n",
    "\n",
    "             1\n",
    "          3     5\n",
    "       7     9    11\n",
    "   13    15    17    19\n",
    "21    23    25    27    29\n",
    "\n",
    "...\n",
    "Calculate the sum of the numbers in the nth row of this triangle (starting at index 1) e.g.: (Input --> Output)\n",
    "\n",
    "1 -->  1\n",
    "2 --> 3 + 5 = 8"
   ]
  },
  {
   "cell_type": "code",
   "execution_count": null,
   "metadata": {},
   "outputs": [],
   "source": [
    "def row_sum_odd_numbers(n):\n",
    "    #your code here\n",
    "    a,b = n*(n-1)+1,n*(n+1)\n",
    "    return sum(range(a,b,2)) if a != 1 else 1"
   ]
  },
  {
   "cell_type": "code",
   "execution_count": 2,
   "metadata": {},
   "outputs": [
    {
     "name": "stdout",
     "output_type": "stream",
     "text": [
      "1\n",
      "2\n",
      "3\n",
      "4\n",
      "5\n"
     ]
    }
   ],
   "source": [
    "n = 5\n",
    "for i in range(1,n+1):\n",
    "    print(i)"
   ]
  },
  {
   "cell_type": "code",
   "execution_count": null,
   "metadata": {},
   "outputs": [],
   "source": []
  },
  {
   "cell_type": "code",
   "execution_count": null,
   "metadata": {},
   "outputs": [],
   "source": []
  }
 ],
 "metadata": {
  "interpreter": {
   "hash": "71d23c1f8c85dab5ca10a7df9e743814890b2991d9ac27ab3e759bde93dc982d"
  },
  "kernelspec": {
   "display_name": "Python 3.9.7 64-bit",
   "language": "python",
   "name": "python3"
  },
  "language_info": {
   "codemirror_mode": {
    "name": "ipython",
    "version": 3
   },
   "file_extension": ".py",
   "mimetype": "text/x-python",
   "name": "python",
   "nbconvert_exporter": "python",
   "pygments_lexer": "ipython3",
   "version": "3.9.7"
  },
  "orig_nbformat": 4
 },
 "nbformat": 4,
 "nbformat_minor": 2
}
