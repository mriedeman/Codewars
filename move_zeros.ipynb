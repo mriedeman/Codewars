{
 "cells": [
  {
   "cell_type": "markdown",
   "id": "7aa10dfe-cffc-47e2-9940-711c05b0ecd3",
   "metadata": {},
   "source": [
    "# Problem Statement\n",
    "\n",
    "Given an array of numbers, write a function that moves the zeroes to the end of the array."
   ]
  },
  {
   "cell_type": "code",
   "execution_count": 18,
   "id": "6dba8791-f312-48ab-bb31-a7c6bed56aae",
   "metadata": {},
   "outputs": [
    {
     "name": "stdout",
     "output_type": "stream",
     "text": [
      "[1, 1, 2, 1, 3, 0, 0]\n"
     ]
    },
    {
     "data": {
      "text/plain": [
       "[1, 1, 2, 1, 3, 0, 0]"
      ]
     },
     "execution_count": 18,
     "metadata": {},
     "output_type": "execute_result"
    }
   ],
   "source": [
    "\n",
    "# move_zeros([1, 0, 1, 2, 0, 1, 3]) # returns [1, 1, 2, 1, 3, 0, 0]\n",
    "\n",
    "\n",
    "def move_zeros(array):\n",
    "    \n",
    "    zeros = []\n",
    "    non_zeros = []\n",
    "    \n",
    "    for num in array:\n",
    "        if num == 0:\n",
    "            zeros.append(num)\n",
    "        else:\n",
    "            non_zeros.append(num)\n",
    "            \n",
    "    new_list = non_zeros+zeros\n",
    "    \n",
    "    return new_list\n",
    "\n",
    "\n",
    "move_zeros([1, 0, 1, 2, 0, 1, 3])"
   ]
  },
  {
   "cell_type": "code",
   "execution_count": 17,
   "id": "971a137a-1b81-4324-b0b3-0b3e4442fbbc",
   "metadata": {},
   "outputs": [
    {
     "data": {
      "text/plain": [
       "[1, 1, 2, 1, 3, 0, 0]"
      ]
     },
     "execution_count": 17,
     "metadata": {},
     "output_type": "execute_result"
    }
   ],
   "source": [
    "array = [1, 0, 1, 2, 0, 1, 3]\n",
    "zeros = []\n",
    "non_zeros = []\n",
    "for num in array:\n",
    "    if num == 0:\n",
    "            zeros.append(num)\n",
    "    else:\n",
    "            non_zeros.append(num)\n",
    "\n",
    "non_zeros + zeros"
   ]
  },
  {
   "cell_type": "markdown",
   "id": "db3c2eb7-dd74-462f-9211-4a96a06c9a24",
   "metadata": {},
   "source": [
    "# My Solution"
   ]
  },
  {
   "cell_type": "code",
   "execution_count": 20,
   "id": "2c3ae24c-d11d-4e52-b515-730643de0178",
   "metadata": {},
   "outputs": [
    {
     "data": {
      "text/plain": [
       "[1, 1, 2, 1, 3, 0, 0]"
      ]
     },
     "execution_count": 20,
     "metadata": {},
     "output_type": "execute_result"
    }
   ],
   "source": [
    "def move_zeros(array):\n",
    "    \n",
    "    zeros = []\n",
    "    non_zeros = []\n",
    "    \n",
    "    for num in array:\n",
    "        if num == 0:\n",
    "            zeros.append(num)\n",
    "        else:\n",
    "            non_zeros.append(num)\n",
    "            \n",
    "    non_zeros.extend(zeros) #you can't reassign when using append/extend 4\n",
    "\n",
    "\n",
    "    # From SO: Delete your second line aList = aList.append('e') and use only aList.append(\"e\"), this should get rid of that problem.\n",
    "    \n",
    "    return non_zeros\n",
    "\n",
    "\n",
    "move_zeros([1, 0, 1, 2, 0, 1, 3])"
   ]
  },
  {
   "cell_type": "markdown",
   "id": "872da126-d719-4d99-9813-f1a61a3e86b8",
   "metadata": {},
   "source": [
    "# Alternative Solution"
   ]
  },
  {
   "cell_type": "code",
   "execution_count": 35,
   "id": "ee7e2c8d-0b75-4ad9-940d-ef53fbc8fd34",
   "metadata": {},
   "outputs": [
    {
     "data": {
      "text/plain": [
       "[1, 1, 2, 1, 3, 0, 0]"
      ]
     },
     "execution_count": 35,
     "metadata": {},
     "output_type": "execute_result"
    }
   ],
   "source": [
    "#took advantage of boolean logic, 1 is True, 0 is False\n",
    "#isinstance(i, bool) or\n",
    "def move_zeros(arr):\n",
    "    \n",
    "    #The isinstance() function returns True if the specified object is of the specified type, otherwise False.\n",
    "    # isinstance(object, type)\n",
    "    l = [i for i in arr if isinstance(i, bool) or i!=0] #, the i!=0 catches all the 1's\n",
    "    return l+[0]*(len(arr)-len(l)) #multiply [0] by the difference of the original array and the new array to add the correct number of zeros\n",
    "\n",
    "move_zeros([1, 0, 1, 2, 0, 1, 3])"
   ]
  }
 ],
 "metadata": {
  "kernelspec": {
   "display_name": "Python 3 (ipykernel)",
   "language": "python",
   "name": "python3"
  },
  "language_info": {
   "codemirror_mode": {
    "name": "ipython",
    "version": 3
   },
   "file_extension": ".py",
   "mimetype": "text/x-python",
   "name": "python",
   "nbconvert_exporter": "python",
   "pygments_lexer": "ipython3",
   "version": "3.9.7"
  }
 },
 "nbformat": 4,
 "nbformat_minor": 5
}
